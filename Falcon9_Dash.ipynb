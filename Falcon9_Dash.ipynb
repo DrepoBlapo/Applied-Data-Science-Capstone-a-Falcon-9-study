{
 "cells": [
  {
   "cell_type": "code",
   "execution_count": 4,
   "metadata": {},
   "outputs": [],
   "source": [
    "import pandas as pd\n",
    "from dash import dash, html, dcc, callback, Output, Input\n",
    "import plotly.express as px"
   ]
  },
  {
   "cell_type": "code",
   "execution_count": 5,
   "metadata": {},
   "outputs": [],
   "source": [
    "spacex_df = pd.read_csv(\"https://cf-courses-data.s3.us.cloud-object-storage.appdomain.cloud/IBM-DS0321EN-SkillsNetwork/datasets/spacex_launch_dash.csv\")\n",
    "\n",
    "max_payload = spacex_df['Payload Mass (kg)'].max()\n",
    "min_payload = spacex_df['Payload Mass (kg)'].min()"
   ]
  },
  {
   "cell_type": "code",
   "execution_count": 6,
   "metadata": {},
   "outputs": [
    {
     "data": {
      "text/html": [
       "\n",
       "        <iframe\n",
       "            width=\"100%\"\n",
       "            height=\"650\"\n",
       "            src=\"http://127.0.0.1:8050/\"\n",
       "            frameborder=\"0\"\n",
       "            allowfullscreen\n",
       "            \n",
       "        ></iframe>\n",
       "        "
      ],
      "text/plain": [
       "<IPython.lib.display.IFrame at 0x2f6f1b638d0>"
      ]
     },
     "metadata": {},
     "output_type": "display_data"
    }
   ],
   "source": [
    "app = dash.Dash(__name__)\n",
    "\n",
    "app.layout = html.Div(children=[\n",
    "    html.H1('SpaceX Launch Records Dashboard',\n",
    "            style={'textAlign': 'center', 'color': 'white', 'font-size': 40}),\n",
    "\n",
    "    # TASK 1\n",
    "    dcc.Dropdown(id='site-dropdown',\n",
    "                 options=[\n",
    "                     {'label': 'All', 'value': 'ALL'},\n",
    "                     {'label': 'CCAFS LC-40', 'value': 'CCAFS LC-40'},\n",
    "                     {'label': 'VAFB SLC-4E', 'value': 'VAFB SLC-4E'},\n",
    "                     {'label': 'KSC LC-39A', 'value': 'KSC LC-39A'},\n",
    "                     {'label': 'CCAFS SLC-40', 'value': 'CCAFS SLC-40'},\n",
    "                 ],\n",
    "                 value='ALL',\n",
    "                 placeholder=\"Choose a launch site\",\n",
    "                 searchable=True\n",
    "                 ),\n",
    "\n",
    "    # TASK2\n",
    "    html.Div(dcc.Graph(id='success-pie-chart')),\n",
    "    html.Br(),\n",
    "\n",
    "    # TASK 3\n",
    "    html.P(\"Payload range (Kg):\"),\n",
    "\n",
    "    html.Div([\n",
    "        dcc.RangeSlider(id='payload-slider',\n",
    "                        min=0, max=10000, step=1000,\n",
    "                        marks={0: '0', 10000: '10000'},\n",
    "                        value=[min_payload, max_payload],\n",
    "                    ),\n",
    "        html.Div(id='output-container-range-slider')\n",
    "    ]),\n",
    "\n",
    "    # TASK 4\n",
    "    html.Div([\n",
    "        dcc.Graph(id='success-payload-scatter-chart')\n",
    "    ]),\n",
    "])\n",
    "\n",
    "# TASK 2\n",
    "@app.callback(Output(component_id='success-pie-chart', component_property='figure'),\n",
    "              [Input(component_id='site-dropdown', component_property='value'),\n",
    "               Input(component_id='payload-slider', component_property='value')]\n",
    ")\n",
    "\n",
    "def update_pie_chart(selected_site, payload_range):\n",
    "    if selected_site == 'ALL':\n",
    "        filtered_df = spacex_df[(spacex_df['Payload Mass (kg)'] >= payload_range[0]) &\n",
    "                                (spacex_df['Payload Mass (kg)'] <= payload_range[1])]\n",
    "        grouped_df = filtered_df[filtered_df['class'] == 1].groupby('Launch Site').size().reset_index(name='Success Count')\n",
    "        labels = grouped_df['Launch Site']\n",
    "        values = grouped_df['Success Count']\n",
    "        title = 'Total successful launches by site'\n",
    "    else:\n",
    "        filtered_df = spacex_df[(spacex_df['Launch Site'] == selected_site) &\n",
    "                                (spacex_df['Payload Mass (kg)'] >= payload_range[0]) &\n",
    "                                (spacex_df['Payload Mass (kg)'] <= payload_range[1])]\n",
    "        success_count = filtered_df[filtered_df['class'] == 1]['class'].count()\n",
    "        labels = [selected_site]\n",
    "        values = [success_count]\n",
    "        title = f'Total successful launches for {selected_site}'\n",
    "\n",
    "    fig = px.pie(labels=labels, values=values, title=title)\n",
    "    return fig\n",
    "\n",
    "# TASK 4\n",
    "@app.callback(\n",
    "    Output(component_id='success-payload-scatter-chart', component_property='figure'),\n",
    "    [Input(component_id='site-dropdown', component_property='value'),\n",
    "     Input(component_id=\"payload-slider\", component_property=\"value\")]\n",
    ")\n",
    "\n",
    "def update_scatter_chart(selected_site, payload_range):\n",
    "    if selected_site == 'ALL':\n",
    "        filtered_df = spacex_df[(spacex_df['Payload Mass (kg)'] >= payload_range[0]) &\n",
    "                                (spacex_df['Payload Mass (kg)'] <= payload_range[1])]\n",
    "    else:\n",
    "        filtered_df = spacex_df[(spacex_df['Launch Site'] == selected_site) &\n",
    "                                (spacex_df['Payload Mass (kg)'] >= payload_range[0]) &\n",
    "                                (spacex_df['Payload Mass (kg)'] <= payload_range[1])]\n",
    "    \n",
    "    fig = px.scatter(filtered_df, x='Payload Mass (kg)', y='class')\n",
    "    return fig\n",
    "\n",
    "if __name__ == '__main__':\n",
    "    app.run_server()"
   ]
  },
  {
   "cell_type": "code",
   "execution_count": null,
   "metadata": {},
   "outputs": [],
   "source": []
  }
 ],
 "metadata": {
  "kernelspec": {
   "display_name": "Python 3 (ipykernel)",
   "language": "python",
   "name": "python3"
  },
  "language_info": {
   "codemirror_mode": {
    "name": "ipython",
    "version": 3
   },
   "file_extension": ".py",
   "mimetype": "text/x-python",
   "name": "python",
   "nbconvert_exporter": "python",
   "pygments_lexer": "ipython3",
   "version": "3.11.5"
  }
 },
 "nbformat": 4,
 "nbformat_minor": 4
}
